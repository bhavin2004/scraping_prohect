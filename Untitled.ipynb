{
 "cells": [
  {
   "cell_type": "code",
   "execution_count": 1,
   "id": "ca5c8268-05a9-456b-8953-278816c7303c",
   "metadata": {},
   "outputs": [
    {
     "name": "stdout",
     "output_type": "stream",
     "text": [
      " Volume in drive C has no label.\n",
      " Volume Serial Number is 02F8-4C47\n",
      "\n",
      " Directory of C:\\Users\\omkar\\Documents\\Projects\\Web Scraping\n",
      "\n",
      "12-03-2025  12:30    <DIR>          .\n",
      "12-03-2025  08:16    <DIR>          ..\n",
      "12-03-2025  12:30    <DIR>          .ipynb_checkpoints\n",
      "12-03-2025  11:25             1,833 1_extract_all_pages.py\n",
      "12-03-2025  12:28               565 2_extract data.py\n",
      "12-03-2025  12:29         1,498,710 data.csv\n",
      "12-03-2025  12:29                53 de.py\n",
      "12-03-2025  11:34    <DIR>          html_data\n",
      "12-03-2025  12:30                72 Untitled.ipynb\n",
      "12-03-2025  08:17    <DIR>          venv\n",
      "               5 File(s)      1,501,233 bytes\n",
      "               5 Dir(s)  139,833,540,608 bytes free\n"
     ]
    }
   ],
   "source": [
    "ls\n"
   ]
  },
  {
   "cell_type": "code",
   "execution_count": 11,
   "id": "dc23a886-c06d-4123-88ac-7b915ef0c5ea",
   "metadata": {},
   "outputs": [],
   "source": [
    "import pandas as pd\n",
    "\n",
    "df = pd.read_csv('data.csv')\n"
   ]
  },
  {
   "cell_type": "code",
   "execution_count": 13,
   "id": "9b7d9d87-975a-4264-8ced-4c15e0113b83",
   "metadata": {},
   "outputs": [
    {
     "data": {
      "text/html": [
       "<div>\n",
       "<style scoped>\n",
       "    .dataframe tbody tr th:only-of-type {\n",
       "        vertical-align: middle;\n",
       "    }\n",
       "\n",
       "    .dataframe tbody tr th {\n",
       "        vertical-align: top;\n",
       "    }\n",
       "\n",
       "    .dataframe thead th {\n",
       "        text-align: right;\n",
       "    }\n",
       "</style>\n",
       "<table border=\"1\" class=\"dataframe\">\n",
       "  <thead>\n",
       "    <tr style=\"text-align: right;\">\n",
       "      <th></th>\n",
       "      <th>Name</th>\n",
       "      <th>Price</th>\n",
       "      <th>Description</th>\n",
       "    </tr>\n",
       "  </thead>\n",
       "  <tbody>\n",
       "    <tr>\n",
       "      <th>0</th>\n",
       "      <td>A Light in the Attic</td>\n",
       "      <td>£51.77</td>\n",
       "      <td>It's hard to imagine a world without A Light i...</td>\n",
       "    </tr>\n",
       "    <tr>\n",
       "      <th>1</th>\n",
       "      <td>The Black Maria</td>\n",
       "      <td>£52.15</td>\n",
       "      <td>Praise for Aracelis Girmay:\"[Girmay's] every l...</td>\n",
       "    </tr>\n",
       "    <tr>\n",
       "      <th>2</th>\n",
       "      <td>In the Country We Love: My Family Divided</td>\n",
       "      <td>£22.00</td>\n",
       "      <td>The star of Orange is the New Black and Jane t...</td>\n",
       "    </tr>\n",
       "    <tr>\n",
       "      <th>3</th>\n",
       "      <td>Hawkeye, Vol. 1: My Life as a Weapon (Hawkeye #1)</td>\n",
       "      <td>£45.24</td>\n",
       "      <td>The breakout star of this summer's blockbuster...</td>\n",
       "    </tr>\n",
       "    <tr>\n",
       "      <th>4</th>\n",
       "      <td>Immunity: How Elie Metchnikoff Changed the Cou...</td>\n",
       "      <td>£57.36</td>\n",
       "      <td>Around Christmas of 1882, while peering throug...</td>\n",
       "    </tr>\n",
       "  </tbody>\n",
       "</table>\n",
       "</div>"
      ],
      "text/plain": [
       "                                                Name   Price  \\\n",
       "0                               A Light in the Attic  £51.77   \n",
       "1                                    The Black Maria  £52.15   \n",
       "2          In the Country We Love: My Family Divided  £22.00   \n",
       "3  Hawkeye, Vol. 1: My Life as a Weapon (Hawkeye #1)  £45.24   \n",
       "4  Immunity: How Elie Metchnikoff Changed the Cou...  £57.36   \n",
       "\n",
       "                                         Description  \n",
       "0  It's hard to imagine a world without A Light i...  \n",
       "1  Praise for Aracelis Girmay:\"[Girmay's] every l...  \n",
       "2  The star of Orange is the New Black and Jane t...  \n",
       "3  The breakout star of this summer's blockbuster...  \n",
       "4  Around Christmas of 1882, while peering throug...  "
      ]
     },
     "execution_count": 13,
     "metadata": {},
     "output_type": "execute_result"
    }
   ],
   "source": [
    "df.head()\n"
   ]
  },
  {
   "cell_type": "code",
   "execution_count": 19,
   "id": "5ff801f3-0a27-4992-8f00-896f9f303259",
   "metadata": {},
   "outputs": [
    {
     "data": {
      "text/plain": [
       "(1000, 3)"
      ]
     },
     "execution_count": 19,
     "metadata": {},
     "output_type": "execute_result"
    }
   ],
   "source": [
    "df.shape"
   ]
  },
  {
   "cell_type": "code",
   "execution_count": null,
   "id": "df556da1-2d8d-40eb-a07c-052e44053aae",
   "metadata": {},
   "outputs": [],
   "source": []
  }
 ],
 "metadata": {
  "kernelspec": {
   "display_name": "Python [conda env:base] *",
   "language": "python",
   "name": "conda-base-py"
  },
  "language_info": {
   "codemirror_mode": {
    "name": "ipython",
    "version": 3
   },
   "file_extension": ".py",
   "mimetype": "text/x-python",
   "name": "python",
   "nbconvert_exporter": "python",
   "pygments_lexer": "ipython3",
   "version": "3.12.7"
  }
 },
 "nbformat": 4,
 "nbformat_minor": 5
}
